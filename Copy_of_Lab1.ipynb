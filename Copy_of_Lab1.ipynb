{
  "nbformat": 4,
  "nbformat_minor": 0,
  "metadata": {
    "colab": {
      "name": "Copy of Lab1.ipynb",
      "provenance": [],
      "collapsed_sections": []
    },
    "kernelspec": {
      "name": "python3",
      "display_name": "Python 3"
    },
    "language_info": {
      "name": "python"
    }
  },
  "cells": [
    {
      "cell_type": "markdown",
      "metadata": {
        "id": "k-5f9qBH3_iS"
      },
      "source": [
        "# **Remove Vowels**"
      ]
    },
    {
      "cell_type": "code",
      "metadata": {
        "colab": {
          "base_uri": "https://localhost:8080/"
        },
        "id": "vMg-c4vZrODD",
        "outputId": "36de3b6e-8037-41be-ceda-85c4a245214c"
      },
      "source": [
        "vowels = ['a','i','e','i','o']\n",
        "x = input(\"Enter word: \")\n",
        "for i in x:\n",
        "  if i in vowels:\n",
        "    x=x.replace(i,\"\")\n",
        "print(x)"
      ],
      "execution_count": null,
      "outputs": [
        {
          "output_type": "stream",
          "name": "stdout",
          "text": [
            "Enter word: hello\n",
            "hll\n"
          ]
        }
      ]
    },
    {
      "cell_type": "markdown",
      "metadata": {
        "id": "n0X4YmdF4H1H"
      },
      "source": [
        "# **Return index of letter**"
      ]
    },
    {
      "cell_type": "code",
      "metadata": {
        "colab": {
          "base_uri": "https://localhost:8080/"
        },
        "id": "zdANCKM4skS1",
        "outputId": "f84fdc1c-7c0d-40c9-948c-5290eae5855a"
      },
      "source": [
        "y = input(\"Enter the word: \")\n",
        "z= input(\"Enter letter: \")\n",
        "list1= []\n",
        "for i in range(len(y)):\n",
        "  if y[i] == z:\n",
        "    list1.append(i)\n",
        "print(list1)"
      ],
      "execution_count": null,
      "outputs": [
        {
          "output_type": "stream",
          "name": "stdout",
          "text": [
            "Enter the word: This is javaScript\n",
            "Enter letter: i\n",
            "[2, 5, 15]\n"
          ]
        }
      ]
    },
    {
      "cell_type": "markdown",
      "metadata": {
        "id": "GyigRCpP4aYu"
      },
      "source": [
        "# **Calculate area of different shapes**"
      ]
    },
    {
      "cell_type": "code",
      "metadata": {
        "colab": {
          "base_uri": "https://localhost:8080/"
        },
        "id": "8b_6SGf34ZUa",
        "outputId": "899972e7-569c-4c38-8341-d79785cf9ce4"
      },
      "source": [
        "import numpy as np\n",
        "x = input(\"Enter shape: \")\n",
        "if x == \"t\":\n",
        "  m,n = input(\"Enter dimenstions: \").split(\" \")\n",
        "  area = .5*int(n)*int(m)\n",
        "  print(area)\n",
        "elif x ==\"c\":\n",
        "  n = int(input(\"Enter radius: \"))\n",
        "  area = n*np.pi*n\n",
        "  print(area)\n",
        "elif x ==\"s\":\n",
        "  n = input(\"Enter dimension: \")\n",
        "  area = n*n\n",
        "  print(area)\n",
        "elif x ==\"r\":\n",
        "  m,n = input(\"Enter dimensions: \").split(\" \")\n",
        "  area = int(m)*int(n)\n",
        "  print(area)\n",
        "else:\n",
        "  print(\"Wrong input\")"
      ],
      "execution_count": null,
      "outputs": [
        {
          "output_type": "stream",
          "name": "stdout",
          "text": [
            "Enter shape: c\n",
            "Enter radius: 4\n",
            "50.26548245743669\n"
          ]
        }
      ]
    },
    {
      "cell_type": "markdown",
      "metadata": {
        "id": "CEyeB9Uu4Q_i"
      },
      "source": [
        "# **Make pyramid shape**"
      ]
    },
    {
      "cell_type": "code",
      "metadata": {
        "colab": {
          "base_uri": "https://localhost:8080/"
        },
        "id": "WpmI37d4uix9",
        "outputId": "a1af5f05-3da8-4852-bc3d-73f39ae0c202"
      },
      "source": [
        "n = int(input())\n",
        "for j in range(n+1):\n",
        "  print(\"*\"*j)\n",
        "\n"
      ],
      "execution_count": null,
      "outputs": [
        {
          "output_type": "stream",
          "name": "stdout",
          "text": [
            "6\n",
            "\n",
            "*\n",
            "**\n",
            "***\n",
            "****\n",
            "*****\n",
            "******\n"
          ]
        }
      ]
    }
  ]
}